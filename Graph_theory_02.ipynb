{
  "nbformat": 4,
  "nbformat_minor": 0,
  "metadata": {
    "colab": {
      "provenance": [],
      "authorship_tag": "ABX9TyNoy5L0i5PfH4SxBFEq3zAk",
      "include_colab_link": true
    },
    "kernelspec": {
      "name": "python3",
      "display_name": "Python 3"
    },
    "language_info": {
      "name": "python"
    }
  },
  "cells": [
    {
      "cell_type": "markdown",
      "metadata": {
        "id": "view-in-github",
        "colab_type": "text"
      },
      "source": [
        "<a href=\"https://colab.research.google.com/github/keerthanamg/graph-theory-02/blob/main/Graph_theory_02.ipynb\" target=\"_parent\"><img src=\"https://colab.research.google.com/assets/colab-badge.svg\" alt=\"Open In Colab\"/></a>"
      ]
    },
    {
      "cell_type": "code",
      "execution_count": 1,
      "metadata": {
        "id": "VecqScfs34EH"
      },
      "outputs": [],
      "source": [
        "#City\n",
        "class City:\n",
        "    def __init__(self, name):\n",
        "        self.name = name\n",
        "        self.connections = {}  # to store neighboring cities and distances\n",
        "\n",
        "    def add_connection(self, city, distance):\n",
        "        self.connections[city] = distance\n",
        "\n",
        "class StateSpaceGraph:\n",
        "    def __init__(self):\n",
        "        self.cities = {}\n",
        "\n",
        "    def add_city(self, city_name):\n",
        "        city = City(city_name)\n",
        "        self.cities[city_name] = city\n",
        "\n",
        "    def add_connection(self, city1, city2, distance):\n",
        "        self.cities[city1].add_connection(self.cities[city2], distance)\n",
        "        self.cities[city2].add_connection(self.cities[city1], distance)\n",
        "\n",
        "    def shortest_path(self, start_city, end_city):\n",
        "        distances = {city: float('inf') for city in self.cities}\n",
        "        distances[start_city] = 0\n",
        "        visited_cities = set()\n",
        "        unvisited_cities = set(self.cities.values())\n",
        "\n",
        "        while unvisited_cities:\n",
        "            current_city = min(unvisited_cities, key=lambda city: distances[city.name])\n",
        "            unvisited_cities.remove(current_city)\n",
        "            visited_cities.add(current_city)\n",
        "\n",
        "            for neighbor, distance in current_city.connections.items():\n",
        "                if neighbor in visited_cities:\n",
        "                    continue\n",
        "                new_distance = distances[current_city.name] + distance\n",
        "                if new_distance < distances[neighbor.name]:\n",
        "                    distances[neighbor.name] = new_distance\n",
        "\n",
        "        return distances[end_city]\n",
        "\n"
      ]
    },
    {
      "cell_type": "code",
      "source": [
        "graph = StateSpaceGraph()\n",
        "graph.add_city('A')\n",
        "graph.add_city('B')\n",
        "graph.add_city('C')\n",
        "graph.add_city('D')\n",
        "graph.add_connection('A', 'B', 2)\n",
        "graph.add_connection('B', 'C', 3)\n",
        "graph.add_connection('C', 'D', 1)\n",
        "graph.add_connection('A', 'D', 5)"
      ],
      "metadata": {
        "id": "9MTA93_cq4Ni"
      },
      "execution_count": 2,
      "outputs": []
    },
    {
      "cell_type": "code",
      "source": [
        "print(graph.shortest_path('A', 'C'))\n",
        "print(graph.shortest_path('D', 'C'))\n",
        "print(graph.shortest_path('B', 'C'))\n",
        "print(graph.shortest_path('B', 'D'))"
      ],
      "metadata": {
        "colab": {
          "base_uri": "https://localhost:8080/"
        },
        "id": "wdP1qJjlq8yx",
        "outputId": "60cb5b1f-a1f2-45fe-a84a-a4b0758cb5b4"
      },
      "execution_count": 3,
      "outputs": [
        {
          "output_type": "stream",
          "name": "stdout",
          "text": [
            "5\n",
            "1\n",
            "3\n",
            "4\n"
          ]
        }
      ]
    }
  ]
}